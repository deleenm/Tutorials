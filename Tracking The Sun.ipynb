{
 "cells": [
  {
   "cell_type": "markdown",
   "id": "scientific-shark",
   "metadata": {},
   "source": [
    "# Tracking the Sun\n",
    "This is a simple tutorial on tracking the position of the Sun in the sky on a given day from the NKU campus."
   ]
  },
  {
   "cell_type": "code",
   "execution_count": 1,
   "id": "agricultural-honolulu",
   "metadata": {},
   "outputs": [],
   "source": [
    "import datetime\n",
    "import matplotlib.pyplot as plt\n",
    "from matplotlib.dates import DateFormatter\n",
    "import numpy as np\n",
    "from astropy.time import Time\n",
    "import astropy.coordinates as coord\n",
    "import astropy.units as u\n",
    "\n",
    "%matplotlib inline"
   ]
  },
  {
   "cell_type": "markdown",
   "id": "first-genetics",
   "metadata": {},
   "source": [
    "## Set your location\n",
    "You can set the value by hand (I used the values for Highland Heights: https://en.wikipedia.org/wiki/Highland_Heights,_Kentucky) or you can use an address lookup."
   ]
  },
  {
   "cell_type": "code",
   "execution_count": 2,
   "id": "first-absorption",
   "metadata": {},
   "outputs": [
    {
     "name": "stdout",
     "output_type": "stream",
     "text": [
      "(-84.455851 deg,39.040035 deg), height: 260.0 m\n"
     ]
    }
   ],
   "source": [
    "longitude = -84.455851*u.deg #Longitudes are always East (this is a Western longitude thus it is negative)\n",
    "latitude = 39.040035*u.deg #the deg stands for degress\n",
    "height = 260*u.m #Height above Sea Level\n",
    "observing_location = coord.EarthLocation(lat=latitude, lon=longitude, height=height) #This is a location object\n",
    "print(\"({},{}), height: {:.1f}\".format(observing_location.lon,observing_location.lat,observing_location.height))"
   ]
  },
  {
   "cell_type": "code",
   "execution_count": 3,
   "id": "noted-blast",
   "metadata": {},
   "outputs": [
    {
     "name": "stdout",
     "output_type": "stream",
     "text": [
      "(-84.46595983085443 deg,39.0346853 deg), height: 0.0 m\n"
     ]
    }
   ],
   "source": [
    "observing_location2 = coord.EarthLocation.of_address('Northern Kentucky University')\n",
    "print(\"({},{}), height: {:.1f}\".format(observing_location2.lon,observing_location2.lat,observing_location2.height))"
   ]
  },
  {
   "cell_type": "markdown",
   "id": "amended-castle",
   "metadata": {},
   "source": [
    "## Set your Date and Time\n",
    "The easiste format is YYYY-MM-DDTHH:MM:SS"
   ]
  },
  {
   "cell_type": "code",
   "execution_count": 4,
   "id": "extra-uncertainty",
   "metadata": {},
   "outputs": [
    {
     "data": {
      "text/plain": [
       "<Time object: scale='utc' format='isot' value=2023-05-09T16:30:01.000>"
      ]
     },
     "execution_count": 4,
     "metadata": {},
     "output_type": "execute_result"
    }
   ],
   "source": [
    "stringtime1 = '2023-05-09T16:30:01' #this is in UTC. So Cincinnati is UT -4 while in EDT 12:30:01 local time\n",
    "time1 = Time(stringtime1,format=\"isot\") #This is a time object\n",
    "time1"
   ]
  },
  {
   "cell_type": "markdown",
   "id": "warming-recall",
   "metadata": {},
   "source": [
    "## Where is the Sun in the Sky?\n",
    "We will first get the Right Ascension and Declination for the Sun. This is equivalent to Longitude and Latitude, but for the sky."
   ]
  },
  {
   "cell_type": "code",
   "execution_count": 5,
   "id": "occasional-terrorism",
   "metadata": {},
   "outputs": [
    {
     "name": "stdout",
     "output_type": "stream",
     "text": [
      "Right Ascension: 46.01636133298077 deg Declination: 17.323025623249286 deg\n"
     ]
    }
   ],
   "source": [
    "sun_radec = coord.get_sun(time1)\n",
    "print(\"Right Ascension: {} Declination: {}\".format(sun_radec.ra,sun_radec.dec))"
   ]
  },
  {
   "cell_type": "markdown",
   "id": "adequate-upper",
   "metadata": {},
   "source": [
    "## Now let's get an Altitude and Azimuth for our location\n",
    "The actual position of the sun in the sky is a function of both time and location, both because the Sun moves in the sky, and the sky moves as the Earth rotates."
   ]
  },
  {
   "cell_type": "code",
   "execution_count": 6,
   "id": "cleared-receipt",
   "metadata": {},
   "outputs": [
    {
     "name": "stdout",
     "output_type": "stream",
     "text": [
      "Azimuth: 142.57958 deg Altitude: 64.24493 deg\n"
     ]
    }
   ],
   "source": [
    "aa_frame = coord.AltAz(location=observing_location, obstime=time1)\n",
    "sun_altaz = sun_radec.transform_to(aa_frame)\n",
    "print(\"Azimuth: {:.5f} Altitude: {:.5f}\".format(sun_altaz.az,sun_altaz.alt))"
   ]
  },
  {
   "cell_type": "markdown",
   "id": "chemical-stroke",
   "metadata": {},
   "source": [
    "## Now let's watch the Sun go over the whole day from 5:00 am to 10:00pm local time"
   ]
  },
  {
   "cell_type": "code",
   "execution_count": 7,
   "id": "affected-stage",
   "metadata": {},
   "outputs": [
    {
     "name": "stdout",
     "output_type": "stream",
     "text": [
      "['2023-05-09T05:00:00.000' '2023-05-09T05:15:00.000'\n",
      " '2023-05-09T05:30:00.000' '2023-05-09T05:45:00.000'\n",
      " '2023-05-09T06:00:00.000' '2023-05-09T06:15:00.000'\n",
      " '2023-05-09T06:30:00.000' '2023-05-09T06:45:00.000'\n",
      " '2023-05-09T07:00:00.000' '2023-05-09T07:15:00.000'\n",
      " '2023-05-09T07:30:00.000' '2023-05-09T07:45:00.000'\n",
      " '2023-05-09T08:00:00.000' '2023-05-09T08:15:00.000'\n",
      " '2023-05-09T08:30:00.000' '2023-05-09T08:45:00.000'\n",
      " '2023-05-09T09:00:00.000' '2023-05-09T09:15:00.000'\n",
      " '2023-05-09T09:30:00.000' '2023-05-09T09:45:00.000'\n",
      " '2023-05-09T10:00:00.000' '2023-05-09T10:15:00.000'\n",
      " '2023-05-09T10:30:00.000' '2023-05-09T10:45:00.000'\n",
      " '2023-05-09T11:00:00.000' '2023-05-09T11:15:00.000'\n",
      " '2023-05-09T11:30:00.000' '2023-05-09T11:45:00.000'\n",
      " '2023-05-09T12:00:00.000' '2023-05-09T12:15:00.000'\n",
      " '2023-05-09T12:30:00.000' '2023-05-09T12:45:00.000'\n",
      " '2023-05-09T13:00:00.000' '2023-05-09T13:15:00.000'\n",
      " '2023-05-09T13:30:00.000' '2023-05-09T13:45:00.000'\n",
      " '2023-05-09T14:00:00.000' '2023-05-09T14:15:00.000'\n",
      " '2023-05-09T14:30:00.000' '2023-05-09T14:45:00.000'\n",
      " '2023-05-09T15:00:00.000' '2023-05-09T15:15:00.000'\n",
      " '2023-05-09T15:30:00.000' '2023-05-09T15:45:00.000'\n",
      " '2023-05-09T16:00:00.000' '2023-05-09T16:15:00.000'\n",
      " '2023-05-09T16:30:00.000' '2023-05-09T16:45:00.000'\n",
      " '2023-05-09T17:00:00.000' '2023-05-09T17:15:00.000'\n",
      " '2023-05-09T17:30:00.000' '2023-05-09T17:45:00.000'\n",
      " '2023-05-09T18:00:00.000' '2023-05-09T18:15:00.000'\n",
      " '2023-05-09T18:30:00.000' '2023-05-09T18:45:00.000'\n",
      " '2023-05-09T19:00:00.000' '2023-05-09T19:15:00.000'\n",
      " '2023-05-09T19:30:00.000' '2023-05-09T19:45:00.000'\n",
      " '2023-05-09T20:00:00.000' '2023-05-09T20:15:00.000'\n",
      " '2023-05-09T20:30:00.000' '2023-05-09T20:45:00.000'\n",
      " '2023-05-09T21:00:00.000' '2023-05-09T21:15:00.000'\n",
      " '2023-05-09T21:30:00.000' '2023-05-09T21:45:00.000'\n",
      " '2023-05-09T22:00:00.000']\n"
     ]
    }
   ],
   "source": [
    "starttime = Time('2023-05-09T09:00:00',format='isot')\n",
    "time_arr = starttime + np.linspace(0, 17, 69)*u.hour #Get a point every 15 minutes\n",
    "local_time_arr = time_arr - 4*u.hour\n",
    "print(local_time_arr) "
   ]
  },
  {
   "cell_type": "markdown",
   "id": "martial-intro",
   "metadata": {},
   "source": [
    "## Formating Time\n",
    "You can create exactly the time you want using the following format codes. Note you need to transform to at datetime time object to be able to use them.\n",
    "\n",
    "| Code | Result |\n",
    "|----|----|\n",
    "| %a | Weekday as locale’s abbreviated name. |\n",
    "| %A | Weekday as locale’s full name. |\n",
    "| %w | Weekday as a decimal number, where 0 is Sunday and 6 is Saturday. | \t \n",
    "| %d | Day of the month as a zero-padded decimal number. |\t \n",
    "| %b | Month as locale’s abbreviated name. |\n",
    "| %B | Month as locale’s full name. | \n",
    "| %m | Month as a zero-padded decimal number. | \t \n",
    "| %y | Year without century as a zero-padded decimal number.| \n",
    "| %Y | Year with century as a decimal number.| \t\n",
    "| %H |\tHour (24-hour clock) as a zero-padded decimal number. |\t \n",
    "| %I |\tHour (12-hour clock) as a zero-padded decimal number. |\t\n",
    "| %p |\tLocale’s equivalent of either AM or PM. |\n",
    "| %M |\tMinute as a zero-padded decimal number. |\t\n",
    "| %S |\tSecond as a zero-padded decimal number. |\t\n",
    "| %f |\tMicrosecond as a decimal number, zero-padded on the left.|\n",
    "| %z |\tUTC offset in the form +HHMM or -HHMM (empty string if the the object is naive).| \t\n",
    "| %Z |\tTime zone name (empty string if the object is naive).|\n",
    "| %j |\tDay of the year as a zero-padded decimal number. |\n",
    "| %c |\tLocale’s appropriate date and time representation.| \t\n",
    "| %x |\tLocale’s appropriate date representation. |\n",
    "| %X |\tLocale’s appropriate time representation. |\n",
    "| %% |\tA literal '%' character.|"
   ]
  },
  {
   "cell_type": "code",
   "execution_count": 8,
   "id": "explicit-gasoline",
   "metadata": {},
   "outputs": [
    {
     "data": {
      "image/png": "[encoded data removed]",
      "text/plain": [
       "<Figure size 720x576 with 1 Axes>"
      ]
     },
     "metadata": {
      "needs_background": "light"
     },
     "output_type": "display_data"
    }
   ],
   "source": [
    "sun_radec_arr = coord.get_sun(time_arr)\n",
    "aa_frame_arr = coord.AltAz(location=observing_location, obstime=time_arr)\n",
    "sun_altaz_arr = sun_radec_arr.transform_to(aa_frame_arr)\n",
    "\n",
    "plt.figure(figsize=(10,8))\n",
    "plt.plot(local_time_arr.datetime,sun_altaz_arr.alt.deg,'o',color='orange',label=\"Sun\")\n",
    "plt.axhline(0,linestyle='--',color='k',label='Horizon')\n",
    "plt.xlabel(\"Time on 05/09/2023\")\n",
    "plt.ylabel(\"Altitude of the Sun (deg)\")\n",
    "plt.gcf().autofmt_xdate()  # orient date labels at a slant\n",
    "formatter = DateFormatter('%l:%M:%S %p')\n",
    "plt.gca().xaxis.set_major_formatter(formatter)\n",
    "plt.legend()\n",
    "plt.show()"
   ]
  },
  {
   "cell_type": "code",
   "execution_count": null,
   "id": "characteristic-degree",
   "metadata": {},
   "outputs": [],
   "source": []
  }
 ],
 "metadata": {
  "kernelspec": {
   "display_name": "Python 3",
   "language": "python",
   "name": "python3"
  },
  "language_info": {
   "codemirror_mode": {
    "name": "ipython",
    "version": 3
   },
   "file_extension": ".py",
   "mimetype": "text/x-python",
   "name": "python",
   "nbconvert_exporter": "python",
   "pygments_lexer": "ipython3",
   "version": "3.7.10"
  }
 },
 "nbformat": 4,
 "nbformat_minor": 5
}
